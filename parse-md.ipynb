{
 "cells": [
  {
   "cell_type": "code",
   "execution_count": 1,
   "metadata": {},
   "outputs": [
    {
     "name": "stdout",
     "output_type": "stream",
     "text": [
      "JSONL file created: /Users/ob1/projects/sgllm/output/questions.jsonl\n"
     ]
    }
   ],
   "source": [
    "import json\n",
    "import re\n",
    "\n",
    "def parse_markdown_to_jsonl(file_path):\n",
    "    with open(file_path, \"r\") as file:\n",
    "        content = file.read()\n",
    "\n",
    "    # Split the content into questions\n",
    "    questions = re.split(r'\\n\\n(?=\\d+\\s)', content.strip())\n",
    "\n",
    "    jsonl_data = []\n",
    "\n",
    "    for question in questions:\n",
    "        # Extract question number, text, and options\n",
    "        match = re.match(r'(\\d+)\\s(.*?)(?:\\n\\(1\\)|\\n\\$\\$)', question, re.DOTALL)\n",
    "        if match:\n",
    "            question_number = match.group(1)\n",
    "            question_text = match.group(2).strip()\n",
    "\n",
    "            # Extract options\n",
    "            options = re.findall(r'\\((\\d+)\\)\\s(.*?)(?=\\n\\(\\d+\\)|\\n\\$\\$|\\Z)', question, re.DOTALL)\n",
    "            \n",
    "            # Extract LaTeX if present\n",
    "            latex_match = re.search(r'\\$\\$(.*?)\\$\\$', question, re.DOTALL)\n",
    "            latex = latex_match.group(1).strip() if latex_match else None\n",
    "\n",
    "            # Create JSON object\n",
    "            question_obj = {\n",
    "                \"question_number\": int(question_number),\n",
    "                \"question_text\": question_text,\n",
    "                \"options\": [{\"option_number\": int(opt[0]), \"option_text\": opt[1].strip()} for opt in options],\n",
    "                \"latex\": latex\n",
    "            }\n",
    "\n",
    "            jsonl_data.append(json.dumps(question_obj))\n",
    "\n",
    "    return \"\\n\".join(jsonl_data)\n",
    "\n",
    "# Usage\n",
    "file_path = \"/Users/ob1/Desktop/PSLE/PSLE Maths 2023/proc/mmd-export.md\"\n",
    "jsonl_output = parse_markdown_to_jsonl(file_path)\n",
    "\n",
    "# Write to a new file\n",
    "output_file = \"/Users/ob1/projects/sgllm/output/questions.jsonl\"\n",
    "with open(output_file, \"w\") as f:\n",
    "    f.write(jsonl_output)\n",
    "\n",
    "print(f\"JSONL file created: {output_file}\")"
   ]
  },
  {
   "cell_type": "code",
   "execution_count": null,
   "metadata": {},
   "outputs": [],
   "source": []
  }
 ],
 "metadata": {
  "kernelspec": {
   "display_name": "venv",
   "language": "python",
   "name": "python3"
  },
  "language_info": {
   "codemirror_mode": {
    "name": "ipython",
    "version": 3
   },
   "file_extension": ".py",
   "mimetype": "text/x-python",
   "name": "python",
   "nbconvert_exporter": "python",
   "pygments_lexer": "ipython3",
   "version": "3.11.9"
  }
 },
 "nbformat": 4,
 "nbformat_minor": 2
}
