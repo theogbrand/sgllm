{
 "cells": [
  {
   "cell_type": "code",
   "execution_count": 1,
   "metadata": {},
   "outputs": [
    {
     "data": {
      "application/vnd.jupyter.widget-view+json": {
       "model_id": "ea639f26cc834f999911c444e4cc9333",
       "version_major": 2,
       "version_minor": 0
      },
      "text/plain": [
       "tokenizer_config.json:   0%|          | 0.00/981 [00:00<?, ?B/s]"
      ]
     },
     "metadata": {},
     "output_type": "display_data"
    },
    {
     "data": {
      "application/vnd.jupyter.widget-view+json": {
       "model_id": "37b54802d6d3492ebc73391e981e51da",
       "version_major": 2,
       "version_minor": 0
      },
      "text/plain": [
       "tokenizer.model:   0%|          | 0.00/493k [00:00<?, ?B/s]"
      ]
     },
     "metadata": {},
     "output_type": "display_data"
    },
    {
     "data": {
      "application/vnd.jupyter.widget-view+json": {
       "model_id": "d36f4fba0aa64b2ca95d40577230ef3f",
       "version_major": 2,
       "version_minor": 0
      },
      "text/plain": [
       "tokenizer.json:   0%|          | 0.00/1.80M [00:00<?, ?B/s]"
      ]
     },
     "metadata": {},
     "output_type": "display_data"
    },
    {
     "data": {
      "application/vnd.jupyter.widget-view+json": {
       "model_id": "2562c56d2c9d4f358fbdd1edf2b7f104",
       "version_major": 2,
       "version_minor": 0
      },
      "text/plain": [
       "added_tokens.json:   0%|          | 0.00/42.0 [00:00<?, ?B/s]"
      ]
     },
     "metadata": {},
     "output_type": "display_data"
    },
    {
     "data": {
      "application/vnd.jupyter.widget-view+json": {
       "model_id": "0cf39b2af6d64c68b24219f24fca27fb",
       "version_major": 2,
       "version_minor": 0
      },
      "text/plain": [
       "special_tokens_map.json:   0%|          | 0.00/168 [00:00<?, ?B/s]"
      ]
     },
     "metadata": {},
     "output_type": "display_data"
    },
    {
     "data": {
      "application/vnd.jupyter.widget-view+json": {
       "model_id": "4a9b0a90e73b46269eb34b4d81c12a91",
       "version_major": 2,
       "version_minor": 0
      },
      "text/plain": [
       "config.json:   0%|          | 0.00/629 [00:00<?, ?B/s]"
      ]
     },
     "metadata": {},
     "output_type": "display_data"
    },
    {
     "data": {
      "application/vnd.jupyter.widget-view+json": {
       "model_id": "9ca762a53c9047a095d07583cd97b138",
       "version_major": 2,
       "version_minor": 0
      },
      "text/plain": [
       "model.safetensors.index.json:   0%|          | 0.00/23.3k [00:00<?, ?B/s]"
      ]
     },
     "metadata": {},
     "output_type": "display_data"
    },
    {
     "data": {
      "application/vnd.jupyter.widget-view+json": {
       "model_id": "582c1f1e1fe147149a72918190a93eff",
       "version_major": 2,
       "version_minor": 0
      },
      "text/plain": [
       "Downloading shards:   0%|          | 0/2 [00:00<?, ?it/s]"
      ]
     },
     "metadata": {},
     "output_type": "display_data"
    },
    {
     "data": {
      "application/vnd.jupyter.widget-view+json": {
       "model_id": "f5a23b980b0e4fae82e118de01242063",
       "version_major": 2,
       "version_minor": 0
      },
      "text/plain": [
       "model-00001-of-00002.safetensors:   0%|          | 0.00/9.94G [00:00<?, ?B/s]"
      ]
     },
     "metadata": {},
     "output_type": "display_data"
    },
    {
     "data": {
      "application/vnd.jupyter.widget-view+json": {
       "model_id": "b18a7999672b4a58b27a7d4947c4eca5",
       "version_major": 2,
       "version_minor": 0
      },
      "text/plain": [
       "model-00002-of-00002.safetensors:   0%|          | 0.00/4.28G [00:00<?, ?B/s]"
      ]
     },
     "metadata": {},
     "output_type": "display_data"
    },
    {
     "data": {
      "application/vnd.jupyter.widget-view+json": {
       "model_id": "a0097aef86a44a9e95e37d975eb20d08",
       "version_major": 2,
       "version_minor": 0
      },
      "text/plain": [
       "Loading checkpoint shards:   0%|          | 0/2 [00:00<?, ?it/s]"
      ]
     },
     "metadata": {},
     "output_type": "display_data"
    },
    {
     "name": "stdout",
     "output_type": "stream",
     "text": [
      "[[82.91365814208984, 47.97157669067383], [46.95110321044922, 81.74346923828125]]\n"
     ]
    }
   ],
   "source": [
    "import torch\n",
    "import torch.nn.functional as F\n",
    "\n",
    "from torch import Tensor\n",
    "from transformers import AutoTokenizer, AutoModel\n",
    "\n",
    "\n",
    "def last_token_pool(last_hidden_states: Tensor,\n",
    "                 attention_mask: Tensor) -> Tensor:\n",
    "    left_padding = (attention_mask[:, -1].sum() == attention_mask.shape[0])\n",
    "    if left_padding:\n",
    "        return last_hidden_states[:, -1]\n",
    "    else:\n",
    "        sequence_lengths = attention_mask.sum(dim=1) - 1\n",
    "        batch_size = last_hidden_states.shape[0]\n",
    "        return last_hidden_states[torch.arange(batch_size, device=last_hidden_states.device), sequence_lengths]\n",
    "\n",
    "\n",
    "def get_detailed_instruct(task_description: str, query: str) -> str:\n",
    "    return f'Instruct: {task_description}\\nQuery: {query}'\n",
    "\n",
    "\n",
    "# Each query must come with a one-sentence instruction that describes the task\n",
    "task = 'Given a web search query, retrieve relevant passages that answer the query'\n",
    "queries = [\n",
    "    get_detailed_instruct(task, 'how much protein should a female eat'),\n",
    "    get_detailed_instruct(task, 'summit define')\n",
    "]\n",
    "# No need to add instruction for retrieval documents\n",
    "documents = [\n",
    "    \"As a general guideline, the CDC's average requirement of protein for women ages 19 to 70 is 46 grams per day. But, as you can see from this chart, you'll need to increase that if you're expecting or training for a marathon. Check out the chart below to see how much protein you should be eating each day.\",\n",
    "    \"Definition of summit for English Language Learners. : 1  the highest point of a mountain : the top of a mountain. : 2  the highest level. : 3  a meeting or series of meetings between the leaders of two or more governments.\"\n",
    "]\n",
    "input_texts = queries + documents\n",
    "\n",
    "tokenizer = AutoTokenizer.from_pretrained('intfloat/e5-mistral-7b-instruct')\n",
    "model = AutoModel.from_pretrained('intfloat/e5-mistral-7b-instruct')\n",
    "\n",
    "max_length = 4096\n",
    "# Tokenize the input texts\n",
    "batch_dict = tokenizer(input_texts, max_length=max_length, padding=True, truncation=True, return_tensors='pt')\n",
    "\n",
    "outputs = model(**batch_dict)\n",
    "embeddings = last_token_pool(outputs.last_hidden_state, batch_dict['attention_mask'])\n",
    "\n",
    "# normalize embeddings\n",
    "embeddings = F.normalize(embeddings, p=2, dim=1)\n",
    "scores = (embeddings[:2] @ embeddings[2:].T) * 100\n",
    "print(scores.tolist())\n"
   ]
  },
  {
   "cell_type": "code",
   "execution_count": 2,
   "metadata": {},
   "outputs": [
    {
     "name": "stdout",
     "output_type": "stream",
     "text": [
      "Hello! As an AI language model, I don't have feelings, but I'm functioning well and ready to assist you. How can I help you today?\n",
      "```python\n",
      "def say_hi(name):\n",
      "  \"\"\"Says hi to a person.\n",
      "\n",
      "  Args:\n",
      "    name: The name of the person to say hi to.\n",
      "\n",
      "  Returns:\n",
      "    A string saying hi to the person.\n",
      "  \"\"\"\n",
      "\n",
      "  return f\"Hi, {name}!\"\n",
      "```\n"
     ]
    }
   ],
   "source": [
    "from litellm import completion\n",
    "import os\n",
    "import dotenv\n",
    "\n",
    "dotenv.load_dotenv()\n",
    "\n",
    "## set ENV variables\n",
    "# os.environ[\"OPENAI_API_KEY\"] = os.getenv(\"OPENAI_API_KEY\")\n",
    "os.environ[\"ANTHROPIC_API_KEY\"] = os.getenv(\"ANTHROPIC_API_KEY\")\n",
    "\n",
    "messages = [{ \"content\": \"Hello, how are you?\",\"role\": \"user\"}]\n",
    "\n",
    "# openai call\n",
    "# response = completion(model=\"gpt-3.5-turbo\", messages=messages)\n",
    "\n",
    "# # cohere call\n",
    "response = completion(model=\"claude-3-5-sonnet-20240620\", messages=messages)\n",
    "print(response.choices[0].message.content)\n",
    "\n",
    "os.environ['GEMINI_API_KEY'] = os.getenv(\"GEMINI_API_KEY\")\n",
    "response = completion(\n",
    "    model=\"gemini/gemini-pro\", \n",
    "    messages=[{\"role\": \"user\", \"content\": \"write code for saying hi from LiteLLM\"}]\n",
    ")\n",
    "print(response.choices[0].message.content)"
   ]
  },
  {
   "cell_type": "code",
   "execution_count": 30,
   "metadata": {},
   "outputs": [
    {
     "data": {
      "text/plain": [
       "'The sentiment of the sentence \"It is a hot and sunny day\" is positive. The description of the weather as \"hot and sunny\" suggests a pleasant and enjoyable day, which indicates a positive sentiment.'"
      ]
     },
     "execution_count": 30,
     "metadata": {},
     "output_type": "execute_result"
    }
   ],
   "source": [
    "def llm(system_prompt: str, user_prompt: str) -> str:\n",
    "    ''' Here, we use OpenAI for illustration, you can change it to your own LLM '''\n",
    "    # ensure your LLM imports are all within this function\n",
    "    from litellm import completion\n",
    "    \n",
    "    # define your own LLM here\n",
    "    response = completion(\n",
    "        model='claude-3-haiku-20240307',\n",
    "        temperature = 0,\n",
    "        messages=[\n",
    "            {\"role\": \"system\", \"content\": system_prompt},\n",
    "            {\"role\": \"user\", \"content\": user_prompt}\n",
    "        ]\n",
    "    )\n",
    "    return response.choices[0].message.content\n",
    "\n",
    "# Verify that llm function is working\n",
    "llm(system_prompt = 'You are a classifier to classify the sentiment of a sentence, do not mention the preamble.', \n",
    "    user_prompt = 'It is a hot and sunny day')"
   ]
  },
  {
   "cell_type": "code",
   "execution_count": 31,
   "metadata": {},
   "outputs": [
    {
     "name": "stdout",
     "output_type": "stream",
     "text": [
      "{'Sentiment': 'Positive', 'Adjectives': ['beautiful', 'sunny'], 'Words': 6}\n"
     ]
    }
   ],
   "source": [
    "from strictjson import *\n",
    "import os\n",
    "import dotenv\n",
    "dotenv.load_dotenv()\n",
    "\n",
    "os.environ['ANTHROPIC_API_KEY'] = os.getenv('ANTHROPIC_API_KEY')\n",
    "\n",
    "res = strict_json(system_prompt = 'You are a classifier',\n",
    "                    user_prompt = 'It is a beautiful and sunny day',\n",
    "                    output_format = {'Sentiment': 'Type of Sentiment',\n",
    "                                    'Adjectives': 'Array of adjectives',\n",
    "                                    'Words': 'Number of words'},\n",
    "                    llm = llm)\n",
    "print(res)"
   ]
  },
  {
   "cell_type": "code",
   "execution_count": 3,
   "metadata": {},
   "outputs": [],
   "source": [
    "import base64\n",
    "import anthropic\n",
    "import httpx\n",
    "\n",
    "image_url = \"/Users/ob1/projects/sgllm/resilience.png\"\n",
    "image_media_type = \"image/png\"\n",
    "# image_data = base64.b64encode(httpx.get(image_url).content).decode(\"utf-8\")\n",
    "image_data = base64.b64encode(open(image_url, \"rb\").read()).decode(\"utf-8\")\n",
    "\n",
    "message = anthropic.Anthropic().messages.create(\n",
    "    model=\"claude-3-5-sonnet-20240620\",\n",
    "    max_tokens=1024,\n",
    "    temperature=0,\n",
    "    tools=[\n",
    "        {\n",
    "            \"name\": \"solve_math_problem\",\n",
    "            \"description\": \"Solve a math problem using well-structured JSON.\",\n",
    "            \"input_schema\": {\n",
    "                \"type\": \"object\",\n",
    "                \"properties\": {\n",
    "                    \"chain_of_thought\": {\n",
    "                        \"type\": \"string\",\n",
    "                        \"description\": \"Chain of thought for solving the math problem.\",\n",
    "                    },\n",
    "                    \"correct_answers\": {\n",
    "                        \"type\": \"array\",\n",
    "                        \"description\": \"Correct answers to the math problem.\",\n",
    "                    }\n",
    "                },\n",
    "                \"required\": [\"correct_answers\", \"chain_of_thought\"],\n",
    "            },\n",
    "        }\n",
    "    ],\n",
    "    tool_choice={\"type\": \"tool\", \"name\": \"solve_math_problem\"},\n",
    "    messages=[\n",
    "        {\n",
    "            \"role\": \"user\",\n",
    "            \"content\": [\n",
    "                {\n",
    "                    \"type\": \"image\",\n",
    "                    \"source\": {\n",
    "                        \"type\": \"base64\",\n",
    "                        \"media_type\": image_media_type,\n",
    "                        \"data\": image_data,\n",
    "                    },\n",
    "                },\n",
    "                {\"type\": \"text\", \"text\": \"Solve all math problems in the image.\"},\n",
    "            ],\n",
    "        }\n",
    "    ],\n",
    ")\n",
    "\n"
   ]
  },
  {
   "cell_type": "code",
   "execution_count": 4,
   "metadata": {},
   "outputs": [
    {
     "name": "stdout",
     "output_type": "stream",
     "text": [
      "[ToolUseBlock(id='toolu_015JtyHEr34kcuCLjjSdafxU', input={'chain_of_thought': 'To solve the math problems in this image, we need to analyze the pattern of the word \"RESILIENCE\" and count the occurrences of the letter \\'E\\'.\\n\\nFor question (a):\\n1. The word RESILIENCE has 3 E\\'s.\\n2. In the first 100 letters, there would be 3 complete repetitions of RESILIENCE (9 letters each), which is 27 letters.\\n3. The remaining 73 letters would include 8 complete words (72 letters) plus 1 letter.\\n4. So we have (3 * 3) + (8 * 3) + 0 = 9 + 24 = 33 E\\'s in the first 100 letters.\\n\\nFor question (b):\\n1. We need to find how many letters are there up to the 101st \\'E\\'.\\n2. Each RESILIENCE has 3 E\\'s and is 9 letters long.\\n3. To get to the 101st \\'E\\', we need 33 full repetitions of RESILIENCE plus 2 more E\\'s.\\n4. 33 * 9 = 297 letters for the full repetitions\\n5. The 34th repetition will contribute 7 more letters (RESILIE) to reach the 101st \\'E\\'\\n6. Total letters: 297 + 7 = 304\\n\\nTherefore, there are 304 letters altogether up to the 101st \\'E\\'.', 'correct_answers': ['33', '304']}, name='solve_math_problem', type='tool_use')]\n"
     ]
    }
   ],
   "source": [
    "print(message.content)"
   ]
  },
  {
   "cell_type": "code",
   "execution_count": 64,
   "metadata": {},
   "outputs": [
    {
     "data": {
      "text/plain": [
       "256"
      ]
     },
     "execution_count": 64,
     "metadata": {},
     "output_type": "execute_result"
    }
   ],
   "source": [
    "eval(\"2 ** 8\")"
   ]
  },
  {
   "cell_type": "code",
   "execution_count": 66,
   "metadata": {},
   "outputs": [],
   "source": [
    "from sympy.abc import r"
   ]
  },
  {
   "cell_type": "code",
   "execution_count": 68,
   "metadata": {},
   "outputs": [
    {
     "data": {
      "text/latex": [
       "$\\displaystyle \\pi r^{2}$"
      ],
      "text/plain": [
       "pi*r**2"
      ]
     },
     "execution_count": 68,
     "metadata": {},
     "output_type": "execute_result"
    }
   ],
   "source": [
    "\n",
    "from sympy import pi, symbols\n",
    "\n",
    "# Define the symbol r\n",
    "r = symbols(\"r\")\n",
    "\n",
    "# Define the expression using sympy\n",
    "expr = pi * r**2\n",
    "\n",
    "# Display the expression\n",
    "expr"
   ]
  },
  {
   "cell_type": "code",
   "execution_count": 69,
   "metadata": {},
   "outputs": [
    {
     "data": {
      "text/latex": [
       "$\\displaystyle 78.5398163397448$"
      ],
      "text/plain": [
       "78.5398163397448"
      ]
     },
     "execution_count": 69,
     "metadata": {},
     "output_type": "execute_result"
    }
   ],
   "source": [
    "expr.evalf(subs={r:5})"
   ]
  },
  {
   "cell_type": "code",
   "execution_count": 42,
   "metadata": {},
   "outputs": [
    {
     "ename": "NameError",
     "evalue": "name 'null' is not defined",
     "output_type": "error",
     "traceback": [
      "\u001b[0;31m---------------------------------------------------------------------------\u001b[0m",
      "\u001b[0;31mNameError\u001b[0m                                 Traceback (most recent call last)",
      "Cell \u001b[0;32mIn[42], line 9\u001b[0m\n\u001b[1;32m      4\u001b[0m \u001b[38;5;28;01mimport\u001b[39;00m \u001b[38;5;21;01mjson\u001b[39;00m\n\u001b[1;32m      6\u001b[0m \u001b[38;5;66;03m# ... existing code ...\u001b[39;00m\n\u001b[1;32m      7\u001b[0m \n\u001b[1;32m      8\u001b[0m \u001b[38;5;66;03m# New JSON object\u001b[39;00m\n\u001b[0;32m----> 9\u001b[0m question_data \u001b[38;5;241m=\u001b[39m {\u001b[38;5;124m\"\u001b[39m\u001b[38;5;124mquestion_number\u001b[39m\u001b[38;5;124m\"\u001b[39m: \u001b[38;5;241m6\u001b[39m, \u001b[38;5;124m\"\u001b[39m\u001b[38;5;124mquestion_text\u001b[39m\u001b[38;5;124m\"\u001b[39m: \u001b[38;5;124m\"\u001b[39m\u001b[38;5;124mWhat is the duration from 0935 to 1400 ?\u001b[39m\u001b[38;5;124m\"\u001b[39m, \u001b[38;5;124m\"\u001b[39m\u001b[38;5;124moptions\u001b[39m\u001b[38;5;124m\"\u001b[39m: [{\u001b[38;5;124m\"\u001b[39m\u001b[38;5;124moption_number\u001b[39m\u001b[38;5;124m\"\u001b[39m: \u001b[38;5;241m1\u001b[39m, \u001b[38;5;124m\"\u001b[39m\u001b[38;5;124moption_text\u001b[39m\u001b[38;5;124m\"\u001b[39m: \u001b[38;5;124m\"\u001b[39m\u001b[38;5;124m4 h 25 min\u001b[39m\u001b[38;5;124m\"\u001b[39m}, {\u001b[38;5;124m\"\u001b[39m\u001b[38;5;124moption_number\u001b[39m\u001b[38;5;124m\"\u001b[39m: \u001b[38;5;241m2\u001b[39m, \u001b[38;5;124m\"\u001b[39m\u001b[38;5;124moption_text\u001b[39m\u001b[38;5;124m\"\u001b[39m: \u001b[38;5;124m\"\u001b[39m\u001b[38;5;124m4 h 35 min\u001b[39m\u001b[38;5;124m\"\u001b[39m}, {\u001b[38;5;124m\"\u001b[39m\u001b[38;5;124moption_number\u001b[39m\u001b[38;5;124m\"\u001b[39m: \u001b[38;5;241m3\u001b[39m, \u001b[38;5;124m\"\u001b[39m\u001b[38;5;124moption_text\u001b[39m\u001b[38;5;124m\"\u001b[39m: \u001b[38;5;124m\"\u001b[39m\u001b[38;5;124m5 h 25 min\u001b[39m\u001b[38;5;124m\"\u001b[39m}, {\u001b[38;5;124m\"\u001b[39m\u001b[38;5;124moption_number\u001b[39m\u001b[38;5;124m\"\u001b[39m: \u001b[38;5;241m4\u001b[39m, \u001b[38;5;124m\"\u001b[39m\u001b[38;5;124moption_text\u001b[39m\u001b[38;5;124m\"\u001b[39m: \u001b[38;5;124m\"\u001b[39m\u001b[38;5;124m5 h 35 min\u001b[39m\u001b[38;5;124m\"\u001b[39m}], \u001b[38;5;124m\"\u001b[39m\u001b[38;5;124mlatex\u001b[39m\u001b[38;5;124m\"\u001b[39m: \u001b[43mnull\u001b[49m}\n\u001b[1;32m     11\u001b[0m message \u001b[38;5;241m=\u001b[39m anthropic\u001b[38;5;241m.\u001b[39mAnthropic()\u001b[38;5;241m.\u001b[39mmessages\u001b[38;5;241m.\u001b[39mcreate(\n\u001b[1;32m     12\u001b[0m     model\u001b[38;5;241m=\u001b[39m\u001b[38;5;124m\"\u001b[39m\u001b[38;5;124mclaude-3-5-sonnet-20240620\u001b[39m\u001b[38;5;124m\"\u001b[39m,\n\u001b[1;32m     13\u001b[0m     max_tokens\u001b[38;5;241m=\u001b[39m\u001b[38;5;241m8192\u001b[39m,\n\u001b[0;32m   (...)\u001b[0m\n\u001b[1;32m     58\u001b[0m     ],\n\u001b[1;32m     59\u001b[0m )\n\u001b[1;32m     61\u001b[0m \u001b[38;5;28mprint\u001b[39m(message\u001b[38;5;241m.\u001b[39mcontent[\u001b[38;5;241m0\u001b[39m]\u001b[38;5;241m.\u001b[39minput[\u001b[38;5;124m'\u001b[39m\u001b[38;5;124mcorrect_answers\u001b[39m\u001b[38;5;124m'\u001b[39m])\n",
      "\u001b[0;31mNameError\u001b[0m: name 'null' is not defined"
     ]
    }
   ],
   "source": [
    "import base64\n",
    "import anthropic\n",
    "import httpx\n",
    "import json\n",
    "\n",
    "# ... existing code ...\n",
    "\n",
    "# New JSON object\n",
    "question_data = {\n",
    "  \"question_number\": 5,\n",
    "  \"question_text\": \"ABCD is a square. Find ∠x.\",\n",
    "  \"options\": [\n",
    "    {\n",
    "      \"number\": 1,\n",
    "      \"text\": \"43°\"\n",
    "    },\n",
    "    {\n",
    "      \"number\": 2,\n",
    "      \"text\": \"44°\"\n",
    "    },\n",
    "    {\n",
    "      \"number\": 3,\n",
    "      \"text\": \"45°\"\n",
    "    },\n",
    "    {\n",
    "      \"number\": 4,\n",
    "      \"text\": \"47°\"\n",
    "    }\n",
    "  ],\n",
    "  \"image_path\": \"https://cdn.mathpix.com/cropped/2024_09_03_e2d3ee458809490b0c4ag-2.jpg?height=664&width=644&top_left_y=227&top_left_x=1132\"\n",
    "}\n",
    "\n",
    "message = anthropic.Anthropic().messages.create(\n",
    "    model=\"claude-3-5-sonnet-20240620\",\n",
    "    max_tokens=8192,\n",
    "    temperature=0,\n",
    "    tools=[\n",
    "        {\n",
    "            \"name\": \"solve_math_problem\",\n",
    "            \"description\": \"Solve a math problem using well-structured JSON.\",\n",
    "            \"input_schema\": {\n",
    "                \"type\": \"object\",\n",
    "                \"properties\": {\n",
    "                    \"chain_of_thought\": {\n",
    "                        \"type\": \"string\",\n",
    "                        \"description\": \"Chain of thought for solving the math problem.\",\n",
    "                    },\n",
    "                    \"correct_answers\": {\n",
    "                        \"type\": \"array\",\n",
    "                        \"description\": \"Correct answers to the math problem.\",\n",
    "                    },\n",
    "                    \"question_data\": {\n",
    "                        \"type\": \"object\",\n",
    "                        \"description\": \"Additional question data.\",\n",
    "                    }\n",
    "                },\n",
    "                \"required\": [\"correct_answers\", \"chain_of_thought\", \"question_data\"],\n",
    "            },\n",
    "        }\n",
    "    ],\n",
    "    tool_choice={\"type\": \"tool\", \"name\": \"solve_math_problem\"},\n",
    "    messages=[\n",
    "        {\n",
    "            \"role\": \"user\",\n",
    "            \"content\": [\n",
    "                {\n",
    "                    \"type\": \"image\",\n",
    "                    \"source\": {\n",
    "                        \"type\": \"base64\",\n",
    "                        \"media_type\": \"image/jpeg\",\n",
    "                        \"data\": base64.b64encode(httpx.get(question_data['image_path']).content).decode(\"utf-8\"),\n",
    "                    },\n",
    "                },\n",
    "                {\n",
    "                    \"type\": \"text\",\n",
    "                    \"text\": f\"Solve the following math problem and return the option number of the correct answer e.g [1] for option 1: {json.dumps(question_data)}\",\n",
    "                },\n",
    "            ],\n",
    "        }\n",
    "    ],\n",
    ")\n",
    "\n",
    "print(message.content[0].input['correct_answers'])\n",
    "print()\n",
    "print(message.content[0].input)"
   ]
  },
  {
   "cell_type": "code",
   "execution_count": 32,
   "metadata": {},
   "outputs": [
    {
     "name": "stdout",
     "output_type": "stream",
     "text": [
      "{'chain_of_thought': \"To solve this problem, let's analyze the figure and count the marked angles that are smaller than 90°:\\n\\n1. The figure is a pentagon (5-sided polygon).\\n2. There are 5 marked angles in total, one at each vertex of the pentagon.\\n3. In a pentagon, the sum of all interior angles is (5-2) × 180° = 540°.\\n4. If all angles were equal, each would be 540° ÷ 5 = 108°.\\n5. However, we can see that some angles are clearly smaller than 90°, while others are larger.\\n6. Counting the angles that appear to be smaller than 90°:\\n   - The top angle is clearly acute (< 90°)\\n   - The bottom right angle is also acute\\n   - The bottom left angle looks to be slightly less than 90°\\n\\nTherefore, there are 3 angles that appear to be smaller than 90°.\", 'correct_answers': [3], 'question_data': {'question_number': 3, 'question_text': 'How many of the marked angles in the figure are smaller than $90^{\\\\circ}$ ?', 'options': [{'number': 1, 'text': '5'}, {'number': 2, 'text': '2'}, {'number': 3, 'text': '3'}, {'number': 4, 'text': '4'}], 'image_path': 'https://cdn.mathpix.com/cropped/2024_09_03_e2d3ee458809490b0c4ag-1.jpg?height=359&width=504&top_left_y=1719&top_left_x=914'}}\n"
     ]
    }
   ],
   "source": [
    "print(message.content[0].input)"
   ]
  },
  {
   "cell_type": "code",
   "execution_count": 46,
   "metadata": {},
   "outputs": [],
   "source": [
    "# primport base64\n",
    "import anthropic\n",
    "import httpx\n",
    "import json\n",
    "\n",
    "# ... existing code ...\n",
    "\n",
    "# New JSON object\n",
    "question_data = {\"question_number\": 7, \"question_text\": \"Arrange the fractions from the largest to the smallest: $\\\\frac{7}{12}, \\\\frac{3}{7}, \\\\frac{7}{10}$\\n\\nLargest $\\\\quad \\\\underline{S m a l l e s t}$\", \"options\": [{\"option_number\": 1, \"option_text\": \"$\\\\frac{3}{7}, \\\\frac{7}{10}, \\\\frac{7}{12}$\"}, {\"option_number\": 2, \"option_text\": \"$\\\\frac{7}{12}, \\\\frac{7}{10}, \\\\frac{3}{7}$\"}, {\"option_number\": 3, \"option_text\": \"$\\\\frac{7}{10}, \\\\frac{3}{7}, \\\\frac{7}{12}$\"}, {\"option_number\": 4, \"option_text\": \"$\\\\frac{7}{10}, \\\\frac{7}{12}, \\\\frac{3}{7}$\"}], \"latex\": None}\n",
    "\n",
    "\n",
    "message = anthropic.Anthropic().messages.create(\n",
    "    model=\"claude-3-5-sonnet-20240620\",\n",
    "    max_tokens=8192,\n",
    "    temperature=0,\n",
    "    tools=[\n",
    "        {\n",
    "            \"name\": \"solve_math_problem\",\n",
    "            \"description\": \"Solve a math problem using well-structured JSON.\",\n",
    "            \"input_schema\": {\n",
    "                \"type\": \"object\",\n",
    "                \"properties\": {\n",
    "                    \"chain_of_thought\": {\n",
    "                        \"type\": \"string\",\n",
    "                        \"description\": \"Chain of thought for solving the math problem.\",\n",
    "                    },\n",
    "                    \"correct_answers\": {\n",
    "                        \"type\": \"array\",\n",
    "                        \"description\": \"Correct answers to the math problem.\",\n",
    "                    },\n",
    "                    \"question_data\": {\n",
    "                        \"type\": \"object\",\n",
    "                        \"description\": \"Additional question data.\",\n",
    "                    }\n",
    "                },\n",
    "                \"required\": [\"correct_answers\", \"chain_of_thought\", \"question_data\"],\n",
    "            },\n",
    "        }\n",
    "    ],\n",
    "    tool_choice={\"type\": \"tool\", \"name\": \"solve_math_problem\"},\n",
    "    messages=[\n",
    "        {\n",
    "            \"role\": \"user\",\n",
    "            \"content\": [\n",
    "                {\n",
    "                    \"type\": \"text\",\n",
    "                    \"text\": f\"Solve the following math problem and return the option number of the correct answer: {json.dumps(question_data)}\",\n",
    "                },\n",
    "            ],\n",
    "        }\n",
    "    ],\n",
    ")\n",
    "\n",
    "print(message.content[0].input['correct_answers'])\n",
    "print()\n",
    "print(message.content[0].input)"
   ]
  },
  {
   "cell_type": "code",
   "execution_count": null,
   "metadata": {},
   "outputs": [],
   "source": []
  }
 ],
 "metadata": {
  "kernelspec": {
   "display_name": "ob1-hf-tf",
   "language": "python",
   "name": "python3"
  },
  "language_info": {
   "codemirror_mode": {
    "name": "ipython",
    "version": 3
   },
   "file_extension": ".py",
   "mimetype": "text/x-python",
   "name": "python",
   "nbconvert_exporter": "python",
   "pygments_lexer": "ipython3",
   "version": "3.11.9"
  }
 },
 "nbformat": 4,
 "nbformat_minor": 2
}
